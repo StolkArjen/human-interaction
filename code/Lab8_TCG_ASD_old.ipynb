{
  "nbformat": 4,
  "nbformat_minor": 0,
  "metadata": {
    "colab": {
      "name": "Lab8_TCG_ASD.ipynb",
      "provenance": [],
      "collapsed_sections": []
    },
    "kernelspec": {
      "name": "python3",
      "display_name": "Python 3"
    },
    "language_info": {
      "name": "python"
    }
  },
  "cells": [
    {
      "cell_type": "markdown",
      "source": [
        "#Analysis of Wadge et al., Cortex 2019\n",
        "\n",
        "This notebook demonstrates the analysis of communicative behavior produced during experimentally controlled interactions between autistic and neurotypical participants. \n",
        "\n",
        "Participants were assigned pairwise to either the ASD group (7 pairs, each containing two individuals with ASD, the Typical group (11 pairs, each containing two individuals with no clinical diagnosis), or the Mixed group (8 pairs, each including one individual with ASD and one individual with no clinical diagnosis)."
      ],
      "metadata": {
        "id": "bxRzjsLJwMCT"
      }
    },
    {
      "cell_type": "markdown",
      "source": [
        "To get started, let's clone the course github, which has a directory **data** containing our experimental files"
      ],
      "metadata": {
        "id": "KEzE1-peaqzk"
      }
    },
    {
      "cell_type": "code",
      "source": [
        "!git clone https://github.com/StolkArjen/human-interaction.git\n",
        "# just FYI, to remove the folder, use: !rm -rf human-interaction\n",
        "# to clear all outputs, go to Edit > Clear all outputs, followed by Runtime > Restart"
      ],
      "metadata": {
        "id": "4GUudiYgeqZx"
      },
      "execution_count": null,
      "outputs": []
    },
    {
      "cell_type": "markdown",
      "source": [
        "Our data are located in human-interaction/data/WadgeCortex19. But what files are in this directory? Let's create an inventory"
      ],
      "metadata": {
        "id": "WCX2P3GeinKv"
      }
    },
    {
      "cell_type": "code",
      "source": [
        "import glob\n",
        "\n",
        "path = 'human-interaction/data/WadgeCortex19/'\n",
        "files = glob.glob(path + '*')\n",
        "\n",
        "files # show"
      ],
      "metadata": {
        "id": "oVCzo99nhbgv"
      },
      "execution_count": null,
      "outputs": []
    },
    {
      "cell_type": "markdown",
      "source": [
        "What information is in these files? Let's read one of them using **pandas** functionality"
      ],
      "metadata": {
        "id": "n5JyJntfkvOH"
      }
    },
    {
      "cell_type": "code",
      "source": [
        "import pandas as pd\n",
        "\n",
        "df = pd.read_csv(path + 'A.csv')\n",
        "\n",
        "df # show"
      ],
      "metadata": {
        "id": "oediWCJ1nfmI"
      },
      "execution_count": null,
      "outputs": []
    },
    {
      "cell_type": "markdown",
      "source": [
        "Let's plot some data. For instance, the number of moves subject 1 and 2 made while playing the game. Let's also plot their averages"
      ],
      "metadata": {
        "id": "K4lv-cl9ogDW"
      }
    },
    {
      "cell_type": "code",
      "source": [
        "import matplotlib.pyplot as plt\n",
        "\n",
        "# number of moves\n",
        "plt.figure()\n",
        "plt.plot(df['S1_NMoves'])\n",
        "plt.plot(df['S2_NMoves'])\n",
        "plt.xlabel('Interactions')\n",
        "plt.ylabel('Number of moves')\n",
        "plt.legend(['S1','S2'])\n",
        "\n",
        "# average number of moves\n",
        "S1_NMoves_mean = df['S1_NMoves'].mean()\n",
        "S2_NMoves_mean = df['S2_NMoves'].mean()\n",
        "plt.figure()\n",
        "plt.bar(['S1','S2'], [S1_NMoves_mean, S2_NMoves_mean])\n",
        "plt.ylabel('Number of moves')\n",
        "\n",
        "# average number of moves over odd trials\n",
        "S1_NMoves_mean = df['S1_NMoves'][0::2].mean()\n",
        "S2_NMoves_mean = df['S2_NMoves'][0::2].mean()\n",
        "plt.figure()\n",
        "plt.bar(['S1','S2'], [S1_NMoves_mean, S2_NMoves_mean])\n",
        "plt.ylabel('Number of moves - odd trials')\n",
        "\n",
        "# average number of moves over even trials\n",
        "S1_NMoves_mean = df['S1_NMoves'][1::2].mean()\n",
        "S2_NMoves_mean = df['S2_NMoves'][1::2].mean()\n",
        "plt.figure()\n",
        "plt.bar(['S1','S2'], [S1_NMoves_mean, S2_NMoves_mean])\n",
        "plt.ylabel('Number of moves - even trials')"
      ],
      "metadata": {
        "id": "vRB7n-Q2oe3M"
      },
      "execution_count": null,
      "outputs": []
    },
    {
      "cell_type": "markdown",
      "source": [
        "What do you notice? The number of moves made by subject 1 and 2 seems to globally covary over the experiment. But there's also fine-grained structure where subject 1 makes more moves than subject 2 during odd trials, with the reverse being true for even trials. What could explain these patterns?\n",
        "\n",
        "Let's continue and read the data from all pairs while calculating their overall joint communicative success"
      ],
      "metadata": {
        "id": "11H15vIJu9n8"
      }
    },
    {
      "cell_type": "code",
      "source": [
        "import os\n",
        "\n",
        "files = sorted(glob.glob(path + '*.csv'))\n",
        "score = {}\n",
        "for l in files:\n",
        "  \n",
        "  # pair success\n",
        "  tmp = xxxxxxx\n",
        "  success = sum(tmp['Accuracy'])/80 # out of 80 trials total\n",
        "\n",
        "  # store in a dictionary\n",
        "  pair = os.path.split(l)[-1][0]\n",
        "  score[pair] = success\n",
        "\n",
        "print(score) # show"
      ],
      "metadata": {
        "id": "GzUWIy9h0hFK"
      },
      "execution_count": null,
      "outputs": []
    },
    {
      "cell_type": "markdown",
      "source": [
        "Uh oh... can you fix it? I think that line was reading in the pair's csv file...\n",
        "\n",
        "Now let's split and plot the data according to pair type"
      ],
      "metadata": {
        "id": "aqHD28CL7827"
      }
    },
    {
      "cell_type": "code",
      "source": [
        "import numpy as np\n",
        "\n",
        "# pair types\n",
        "ASD = ['A','B','C','D','E','F','L'] # autistic pairs\n",
        "Typ = ['G','H','R','S','T','U','V','W','X','Y','Z'] # neurotypical pairs\n",
        "Mix = ['I','J','K','M','N','O','P','Q'] # mixed pairs\n",
        "\n",
        "# success per pair type\n",
        "ASD_success = [score[k] for k in ASD]\n",
        "Typ_success = [score[k] for k in Typ]\n",
        "Mix_success = [score[k] for k in Mix]\n",
        "\n",
        "# summary statistics\n",
        "ASD_success_mean = np.mean(ASD_success)\n",
        "Typ_success_mean = np.mean(Typ_success)\n",
        "Mix_success_mean = np.mean(Mix_success)\n",
        "ASD_success_std = np.std(ASD_success)\n",
        "Typ_success_std = np.std(Typ_success)\n",
        "Mix_success_std = np.std(Mix_success)\n",
        "\n",
        "# bar charts with error bars\n",
        "plt.figure()\n",
        "plt.bar(['ASD','Mix','Typ'], [ASD_success_mean, Mix_success_mean, Typ_success_mean], yerr=[ASD_success_std, Mix_success_std, Typ_success_std])\n",
        "plt.ylabel('Joint success (%)')\n",
        "plt.savefig('success.pdf')"
      ],
      "metadata": {
        "id": "kTShAcfI7Etq"
      },
      "execution_count": null,
      "outputs": []
    },
    {
      "cell_type": "markdown",
      "source": [
        "What do you observe? It seems there is a lot of variability, especially in the ASD and Mixed pairs. Let's see if some of that variation can be explained by pairs' IQ, which is stored in the subject summary excel sheet"
      ],
      "metadata": {
        "id": "_XbPiTtN_1_u"
      }
    },
    {
      "cell_type": "code",
      "source": [
        "# read in the subjects information sheet\n",
        "x = pd.read_excel(path + 'Subject_Summary.xlsx')\n",
        "\n",
        "x # show"
      ],
      "metadata": {
        "id": "FFGZkPZS9ZGI"
      },
      "execution_count": null,
      "outputs": []
    },
    {
      "cell_type": "markdown",
      "source": [
        "Let's extract and store pairs' mean and mininum IQ in dictionaries"
      ],
      "metadata": {
        "id": "-9tO1i2XHnpN"
      }
    },
    {
      "cell_type": "code",
      "source": [
        "IQ_mean = dict(zip(x['Pair_name'], x[['S1IQ','S2IQ']].mean(axis=1)))\n",
        "IQ_min = dict(zip(x['Pair_name'], x[['S1IQ','S2IQ']].min(axis=1)))\n",
        "\n",
        "# sort alphabetically\n",
        "IQ_mean = dict(sorted(IQ_mean.items()))\n",
        "IQ_min = dict(sorted(IQ_min.items()))\n",
        "\n",
        "plt.figure()\n",
        "plt.scatter([IQ_mean[k] for k in IQ_mean], [score[k] for k in IQ_mean])\n",
        "plt.scatter([IQ_min[k] for k in IQ_min], [score[k] for k in IQ_min])\n",
        "plt.xlabel('IQ')\n",
        "plt.ylabel('Joint success (%)')"
      ],
      "metadata": {
        "id": "nQHGvPBPGCEK"
      },
      "execution_count": null,
      "outputs": []
    },
    {
      "cell_type": "markdown",
      "source": [
        "Which one is the better fit? Let's account for variance explained by IQ, and see whether the effects of reduced communicative success in pairs containing autistic individuals persist"
      ],
      "metadata": {
        "id": "uAoPMmswiHil"
      }
    },
    {
      "cell_type": "code",
      "source": [
        "import statsmodels.api as sm\n",
        "from scipy import stats\n",
        "\n",
        "# linear regression test of the effect of mean IQ on score\n",
        "y = [score[k] for k in IQ_mean]\n",
        "X = stats.zscore([IQ_mean[k] for k in IQ_mean])\n",
        "X = sm.add_constant(X) # adding a constant to get an intercept\n",
        "\n",
        "lr_mean = sm.OLS(y, X).fit()\n",
        "lr_mean.summary()"
      ],
      "metadata": {
        "id": "ik5T_Pwiicrd"
      },
      "execution_count": null,
      "outputs": []
    },
    {
      "cell_type": "code",
      "source": [
        "# linear regression test of the effect of minimum IQ on score\n",
        "y = [score[k] for k in IQ_min]\n",
        "X = stats.zscore([IQ_min[k] for k in IQ_min])\n",
        "X = sm.add_constant(X) # adding a constant to get an intercept\n",
        "\n",
        "lr_min = sm.OLS(y, X).fit()\n",
        "lr_min.summary()"
      ],
      "metadata": {
        "id": "Wb1dIFlFjxhk"
      },
      "execution_count": null,
      "outputs": []
    },
    {
      "cell_type": "markdown",
      "source": [
        "Minimum IQ appears to have a statistically significant influence on joint communicative success, even more so than mean IQ. Which parameters in the above tables support this conclusion?  \n",
        "\n",
        "Why do we want to account for it, when there are no group differences in IQ (based on stats of the article)? The following code \"regresses out\" contributions from IQ to communicative success"
      ],
      "metadata": {
        "id": "kuK3CKEImcfd"
      }
    },
    {
      "cell_type": "code",
      "source": [
        "# predicted contribution of minimum IQ to success rates\n",
        "X[:,0] = 0 # zero out constant to estimate the effect of IQ alone\n",
        "y_pred = lr_min.predict(X)\n",
        "\n",
        "# residuals after accounting for that contribution\n",
        "res = (y - y_pred)\n",
        "\n",
        "print(np.c_[res, y]) # show IQ adjusted scores alongside original scores"
      ],
      "metadata": {
        "id": "DChAjEJpli0R"
      },
      "execution_count": null,
      "outputs": []
    },
    {
      "cell_type": "markdown",
      "source": [
        "Look, for instance, at the top pair (pair A). This pair had high performance but apparently also high IQ, because their performance drops substantially after correcting for IQ"
      ],
      "metadata": {
        "id": "Zv1c0a66IN5H"
      }
    },
    {
      "cell_type": "code",
      "source": [
        "import string\n",
        "\n",
        "# put back in dictionary format and plot as before\n",
        "score_adj = {}\n",
        "keys = list(string.ascii_uppercase)\n",
        "for count, key in enumerate(keys):\n",
        "  score_adj[key] = res[count] # key-value pair\n",
        "\n",
        "# pair types\n",
        "ASD = ['A','B','C','D','E','F','L'] # autistic pairs\n",
        "Typ = ['G','H','R','S','T','U','V','W','X','Y','Z'] # neurotypical pairs\n",
        "Mix = ['I','J','K','M','N','O','P','Q'] # mixed pairs\n",
        "\n",
        "# success per pair type\n",
        "ASD_success = [score_adj[k] for k in ASD]\n",
        "Typ_success = [score_adj[k] for k in Typ]\n",
        "Mix_success = [score_adj[k] for k in Mix]\n",
        "\n",
        "# summary statistics\n",
        "ASD_success_mean = np.mean(ASD_success)\n",
        "Typ_success_mean = np.mean(Typ_success)\n",
        "Mix_success_mean = np.mean(Mix_success)\n",
        "ASD_success_std = np.std(ASD_success)\n",
        "Typ_success_std = np.std(Typ_success)\n",
        "Mix_success_std = np.std(Mix_success)\n",
        "\n",
        "# bar charts with error bars\n",
        "plt.figure()\n",
        "xxxx\n",
        "xxx\n",
        "plt.savefig('success_adj.pdf')"
      ],
      "metadata": {
        "id": "JhS1MpHzjsri"
      },
      "execution_count": null,
      "outputs": []
    },
    {
      "cell_type": "markdown",
      "source": [
        "Recognize this plot?\n",
        "\n",
        "Let's perform a variance analysis (ANOVA) on these values"
      ],
      "metadata": {
        "id": "ZQ-f0Le36H6L"
      }
    },
    {
      "cell_type": "code",
      "source": [
        "# One-way ANOVA\n",
        "fvalue, pvalue = stats.f_oneway(ASD_success, Mix_success, Typ_success)\n",
        "print(fvalue, pvalue) # indicating a statistically significant effect of group"
      ],
      "metadata": {
        "id": "mVEABZqvdvVq"
      },
      "execution_count": null,
      "outputs": []
    },
    {
      "cell_type": "markdown",
      "source": [
        "Qualify the effects further using post-hoc comparisons"
      ],
      "metadata": {
        "id": "7ulTys-ZZ2io"
      }
    },
    {
      "cell_type": "code",
      "source": [
        "!pip install scikit_posthocs"
      ],
      "metadata": {
        "id": "KD-Rn4tbXL-K"
      },
      "execution_count": null,
      "outputs": []
    },
    {
      "cell_type": "code",
      "source": [
        "import scikit_posthocs as sp\n",
        "\n",
        "df = pd.DataFrame({'score': ASD_success + Mix_success + Typ_success,\n",
        "                   'group': np.repeat(['ASD', 'Mix', 'Typ'], repeats=[len(ASD), len(Mix), len(Typ)])})\n",
        "print(df)\n",
        "\n",
        "sp.posthoc_ttest(df, val_col='score', group_col='group', p_adjust='fdr_tsbky', pool_sd=False)"
      ],
      "metadata": {
        "id": "sfGEzTE2XJzs"
      },
      "execution_count": null,
      "outputs": []
    }
  ]
}