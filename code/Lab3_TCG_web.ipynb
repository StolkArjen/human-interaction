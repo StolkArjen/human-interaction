{
  "cells": [
    {
      "cell_type": "markdown",
      "metadata": {
        "id": "-0bj14yMPBpw"
      },
      "source": [
        "# Analysis of behavior in the Tacit Communication Game\n",
        "\n",
        "This notebook demonstrates the analysis of communicative behavior produced during experimentally controlled interactions, i.e. the Tacit Communication Game.\n",
        "\n",
        "To get started, clone the course github containing our experimental files"
      ]
    },
    {
      "cell_type": "code",
      "execution_count": null,
      "metadata": {
        "id": "wQeCRbVoOe1-"
      },
      "outputs": [],
      "source": [
        "!git clone https://github.com/StolkArjen/human-interaction.git\n",
        "# you should be seeing a folder named 'human-interaction' appearing in your workspace (folder icon on the left)\n",
        "\n",
        "# just FYI, to remove the folder, use in separate code block: !rm -rf human-interaction\n",
        "# to clear all outputs, go to Edit > Clear all outputs, followed by Runtime > Restart"
      ]
    },
    {
      "cell_type": "markdown",
      "metadata": {
        "id": "_JQn449_qdqe"
      },
      "source": [
        "## Import standard packages & local modules"
      ]
    },
    {
      "cell_type": "code",
      "execution_count": null,
      "metadata": {
        "id": "oQrsRHp9RrG0"
      },
      "outputs": [],
      "source": [
        "# Standard packages\n",
        "import os, sys\n",
        "from glob import glob\n",
        "import matplotlib.pyplot as plt\n",
        "import numpy as np\n",
        "import pandas as pd\n",
        "from scipy.stats import pearsonr\n",
        "from pprint import pprint\n",
        "\n",
        "# Local modules\n",
        "sys.path.append(os.path.join(os.getcwd(), 'human-interaction', 'code'))\n",
        "from read_json_tcg import read_json_tcg"
      ]
    },
    {
      "cell_type": "markdown",
      "metadata": {
        "id": "6ABBx9VCqdqe"
      },
      "source": [
        "## Load data"
      ]
    },
    {
      "cell_type": "markdown",
      "metadata": {
        "id": "ZnQBwvZSRr1Z"
      },
      "source": [
        "Our data are located in human-interaction/data/TCG_KU. But what files are in this directory? Let's get an inventory"
      ]
    },
    {
      "cell_type": "code",
      "execution_count": null,
      "metadata": {
        "scrolled": true,
        "id": "I0jr86Mlqdqg"
      },
      "outputs": [],
      "source": [
        "data_dir = os.path.join(os.getcwd(), 'human-interaction', 'data', 'TCG_KU')\n",
        "files = glob(os.path.join(data_dir, '*'))\n",
        "\n",
        "pprint(files) # show"
      ]
    },
    {
      "cell_type": "markdown",
      "source": [
        "#### Just a note re: `print()` vs `pprint()`\n",
        "In Python, `print()` is a built-in function that is used to output data to the standard output device, which is usually the screen. This function is often used for debugging purposes, to display messages, or to output the results of a program.\n",
        "\n",
        "`pprint()` on the other hand, which stands for \"pretty-print\" is a function in Python's `pprint()` module (which we imported above) that outputs the same data as `print()` does but as a formatted representation, making it easier to read, like the list of files above."
      ],
      "metadata": {
        "id": "D4HUrHFqsqw8"
      }
    },
    {
      "cell_type": "markdown",
      "metadata": {
        "id": "2Z7U1YeCRVeo"
      },
      "source": [
        "## Analysis of a single pair\n",
        "### 1) Read data from a pair into the workspace"
      ]
    },
    {
      "cell_type": "code",
      "execution_count": null,
      "metadata": {
        "id": "0xuX4DaRRDni"
      },
      "outputs": [],
      "source": [
        "data_filepath = os.path.join(data_dir, 'room000635')\n",
        "data = read_json_tcg(data_filepath)\n",
        "pprint(data.label)"
      ]
    },
    {
      "cell_type": "code",
      "execution_count": null,
      "metadata": {
        "id": "ucaRxqiIqdqh"
      },
      "outputs": [],
      "source": [
        "# Create a pandas DataFrame\n",
        "df = pd.DataFrame(data.trial[2], columns=data.label)"
      ]
    },
    {
      "cell_type": "code",
      "execution_count": null,
      "metadata": {
        "id": "s9a9g6N9qdqh"
      },
      "outputs": [],
      "source": [
        "df.head()"
      ]
    },
    {
      "cell_type": "markdown",
      "metadata": {
        "id": "pevNazDUla3z"
      },
      "source": [
        "### 2) Plot communicative success"
      ]
    },
    {
      "cell_type": "code",
      "execution_count": null,
      "metadata": {
        "id": "4KInw6yDqdqi"
      },
      "outputs": [],
      "source": [
        "# Access the 'Success' column\n",
        "success = df['Success']\n",
        "plt.figure()\n",
        "plt.plot(success)\n",
        "plt.xlabel('Interactions')\n",
        "plt.ylabel('Success [%]')"
      ]
    },
    {
      "cell_type": "code",
      "execution_count": null,
      "metadata": {
        "id": "Nk6Xfyzhqdqi"
      },
      "outputs": [],
      "source": [
        "# Access the 'Level' column\n",
        "level = df['Level']\n",
        "plt.figure()\n",
        "plt.plot(level)\n",
        "plt.xlabel('Interactions')\n",
        "plt.ylabel('Level')"
      ]
    },
    {
      "cell_type": "markdown",
      "metadata": {
        "id": "SuF0uBuonUQm"
      },
      "source": [
        "### 3) Plot success separately for Known and Novel interactions"
      ]
    },
    {
      "cell_type": "code",
      "execution_count": null,
      "metadata": {
        "id": "sEnE8R05nhOU"
      },
      "outputs": [],
      "source": [
        "# Blocks of 4 (known)\n",
        "known_idx = [0,1,2,3,9,10,11,12,18,19,20,21,27,28,29,30,36,37,38,39,45,46,47,48,54,55,56,57,63,64,65,66,72,73,74,75,81,82,83,84,90,91,92,93]\n",
        "\n",
        "# Blocks of 5 (novel)\n",
        "novel_idx = [4,5,6,7,8,13,14,15,16,17,22,23,24,25,26,31,32,33,34,35,40,41,42,43,44,49,50,51,52,53,58,59,60,61,62,67,68,69,70,71,76,77,78,79,80,85,86,87,88,89]\n",
        "\n",
        "# Calculate percentage success for known and novel\n",
        "known_suc = df.loc[known_idx, 'Success'].mean() * 100  # Convert to percentage\n",
        "novel_suc = df.loc[novel_idx, 'Success'].mean() * 100  # Convert to percentage\n",
        "\n",
        "plt.figure()\n",
        "plt.bar(['Known', 'Novel'], [known_suc, novel_suc])\n",
        "plt.ylabel('Success [%]')\n",
        "plt.show()"
      ]
    },
    {
      "cell_type": "markdown",
      "metadata": {
        "id": "Gj0a78iariH1"
      },
      "source": [
        "Known trials contained communicative problems where pairs had previously coordinated and found shared solutions for. Novel trials contained communicative problems the pairs had not faced before, and for which they had to establish shared solutions still. What does the above plot tell you?"
      ]
    },
    {
      "cell_type": "markdown",
      "metadata": {
        "id": "i-3P-WUnsdUV"
      },
      "source": [
        "### 4) Plot time spent on target and non-target locations by the Sender"
      ]
    },
    {
      "cell_type": "code",
      "execution_count": null,
      "metadata": {
        "id": "NxPHpSQkqdqj"
      },
      "outputs": [],
      "source": [
        "# Access the 'TargetTime' and 'NonTargetTime' columns\n",
        "target = df['TargetTime']\n",
        "nontarget = df['NonTargetTime']\n",
        "\n",
        "# Calculate the mean for both target and non-target\n",
        "# Note: It's important to handle NaN values appropriately here\n",
        "target_mean = target.mean()\n",
        "nontarget_mean = nontarget.mean()\n",
        "\n",
        "# Plotting\n",
        "plt.figure()\n",
        "plt.bar(['Target', 'NonTarget'], [target_mean, nontarget_mean])\n",
        "plt.ylabel('Time spent on location [ms]')\n",
        "plt.show()"
      ]
    },
    {
      "cell_type": "markdown",
      "metadata": {
        "id": "rxuqb-R5tdF9"
      },
      "source": [
        "Target locations are locations where the Receiver's shape needs to be positioned by the Receiver. Non-target locations are other locations visited by the Sender during his/her turn. What does this plot tell you?"
      ]
    },
    {
      "cell_type": "markdown",
      "metadata": {
        "id": "7ew_iNZAtvYZ"
      },
      "source": [
        "### Plot Sender and Receiver planning times"
      ]
    },
    {
      "cell_type": "code",
      "execution_count": null,
      "metadata": {
        "id": "cHmPGKGYqdqj"
      },
      "outputs": [],
      "source": [
        "sender_pt = df['SenderPlanTime']\n",
        "receiver_pt = df['ReceiverPlanTime']\n",
        "\n",
        "# Plotting\n",
        "plt.figure()\n",
        "plt.plot(sender_pt, label='Sender')\n",
        "plt.plot(receiver_pt, label='Receiver')\n",
        "plt.xlabel('Interactions')\n",
        "plt.ylabel('Planning time [ms]')\n",
        "plt.legend()\n",
        "plt.show()"
      ]
    },
    {
      "cell_type": "markdown",
      "metadata": {
        "id": "GsZ8qvOUvc4e"
      },
      "source": [
        "### What do you notice?"
      ]
    },
    {
      "cell_type": "markdown",
      "metadata": {
        "id": "uUZDXlIIvEU1"
      },
      "source": [
        "#### Calculate and plot the correlation in planning times, separately for the Sender and Receiver roles"
      ]
    },
    {
      "cell_type": "markdown",
      "metadata": {
        "id": "lvH8G9kFqdqk"
      },
      "source": [
        "#### Sender planning times"
      ]
    },
    {
      "cell_type": "code",
      "execution_count": null,
      "metadata": {
        "id": "lQ2Yiyaqqdqk"
      },
      "outputs": [],
      "source": [
        "# Filter data for Player 1 and Player 2 as sender\n",
        "p1_df = df[df['SenderPlayer'] == 1]\n",
        "p2_df = df[df['SenderPlayer'] == 2]\n",
        "\n",
        "# Get planning times for Player 1 and Player 2\n",
        "p1sender_pt = p1_df['SenderPlanTime']\n",
        "p2sender_pt = p2_df['SenderPlanTime']\n",
        "\n",
        "# Plot planning times\n",
        "plt.figure()\n",
        "plt.plot(p1sender_pt, label='Player 1')\n",
        "plt.plot(p2sender_pt, label='Player 2')\n",
        "plt.xlabel('Sender turns')\n",
        "plt.ylabel('Planning time [ms]')\n",
        "plt.legend()\n",
        "plt.show()\n",
        "\n",
        "# Filter known and novel interactions for Player 1 and Player 2\n",
        "p1sender_known = p1_df[p1_df.index.isin(known_idx)]\n",
        "p1sender_novel = p1_df[p1_df.index.isin(novel_idx)]\n",
        "p2sender_known = p2_df[p2_df.index.isin(known_idx)]\n",
        "p2sender_novel = p2_df[p2_df.index.isin(novel_idx)]\n",
        "\n",
        "# Calculate Pearson correlation for sender planning times\n",
        "rk_sender, _ = pearsonr(p1sender_known['SenderPlanTime'], p2sender_known['SenderPlanTime'])\n",
        "rn_sender, _ = pearsonr(p1sender_novel['SenderPlanTime'], p2sender_novel['SenderPlanTime'])\n",
        "\n",
        "# Plot correlations\n",
        "plt.figure()\n",
        "plt.bar(['Known', 'Novel'], [rk_sender, rn_sender])\n",
        "plt.ylabel('Sender planning time correlation [r]')\n",
        "plt.show()"
      ]
    },
    {
      "cell_type": "markdown",
      "metadata": {
        "id": "w3tteUVCqdqk"
      },
      "source": [
        "#### Receiver planning times"
      ]
    },
    {
      "cell_type": "code",
      "execution_count": null,
      "metadata": {
        "id": "3BOplragqdqk"
      },
      "outputs": [],
      "source": [
        "# Filter data for Player 1 and Player 2 as receiver\n",
        "p1_df_receiver = df[df['ReceiverPlayer'] == 1]\n",
        "p2_df_receiver = df[df['ReceiverPlayer'] == 2]\n",
        "\n",
        "# Get planning times for Player 1 and Player 2 as receiver\n",
        "p1receiver_pt = p1_df_receiver['ReceiverPlanTime']\n",
        "p2receiver_pt = p2_df_receiver['ReceiverPlanTime']\n",
        "\n",
        "# Plot planning times\n",
        "plt.figure()\n",
        "plt.plot(p1receiver_pt, label='Player 1')\n",
        "plt.plot(p2receiver_pt, label='Player 2')\n",
        "plt.xlabel('Receiver turns')\n",
        "plt.ylabel('Planning time [ms]')\n",
        "plt.legend()\n",
        "plt.show()\n",
        "\n",
        "# Filter known and novel interactions for Player 1 and Player 2 as receiver\n",
        "p1receiver_known = p1_df_receiver[p1_df_receiver.index.isin(known_idx)]\n",
        "p1receiver_novel = p1_df_receiver[p1_df_receiver.index.isin(novel_idx)]\n",
        "p2receiver_known = p2_df_receiver[p2_df_receiver.index.isin(known_idx)]\n",
        "p2receiver_novel = p2_df_receiver[p2_df_receiver.index.isin(novel_idx)]\n",
        "\n",
        "# Calculate Pearson correlation for receiver planning times\n",
        "rk_receiver, _ = pearsonr(p1receiver_known['ReceiverPlanTime'], p2receiver_known['ReceiverPlanTime'])\n",
        "rn_receiver, _ = pearsonr(p1receiver_novel['ReceiverPlanTime'], p2receiver_novel['ReceiverPlanTime'])\n",
        "\n",
        "# Plot correlations\n",
        "plt.figure()\n",
        "plt.bar(['Known', 'Novel'], [rk_receiver, rn_receiver])\n",
        "plt.ylabel('Receiver planning time correlation [r]')\n",
        "plt.show()"
      ]
    },
    {
      "cell_type": "markdown",
      "metadata": {
        "id": "Lqyz8Ebu9new"
      },
      "source": [
        "Correlation analysis helps to capture shared variance in the planning time timeseries. What do these correlations tell you about the communicative difficulty of the problems? Are they difficult for both players or for just one individual at a time?"
      ]
    },
    {
      "cell_type": "markdown",
      "metadata": {
        "id": "ytxdCTxx9-qZ"
      },
      "source": [
        "## Group analysis of multiple pairs\n",
        "### 1) Read data from all pairs into the workspace"
      ]
    },
    {
      "cell_type": "code",
      "execution_count": null,
      "metadata": {
        "id": "YPiMbwIM-CzG"
      },
      "outputs": [],
      "source": [
        "files = glob(os.path.join(data_dir, '*'))\n",
        "\n",
        "group_data = []\n",
        "for l in files:\n",
        "    group_data.append(read_json_tcg(l)) # store in list"
      ]
    },
    {
      "cell_type": "code",
      "execution_count": null,
      "metadata": {
        "id": "ZvYGhNyQqdqk"
      },
      "outputs": [],
      "source": [
        "dataframes = []\n",
        "for f in files:\n",
        "    # Extract data_id from the file name\n",
        "    data_id = f.split('/')[-1]\n",
        "\n",
        "    # Read the data\n",
        "    data_object = read_json_tcg(f)\n",
        "    trial_data = data_object.trial[2]\n",
        "\n",
        "    # Create a DataFrame from trial_data\n",
        "    df = pd.DataFrame(trial_data, columns=data.label)\n",
        "\n",
        "    # Add the data_id column\n",
        "    df['data_id'] = data_id\n",
        "\n",
        "    # Append to the list of DataFrames\n",
        "    dataframes.append(df)\n",
        "\n",
        "# Concatenate all DataFrames into one\n",
        "group_df = pd.concat(dataframes, ignore_index=True)"
      ]
    },
    {
      "cell_type": "code",
      "execution_count": null,
      "metadata": {
        "id": "uQ-7yCVeqdqk"
      },
      "outputs": [],
      "source": [
        "group_df.head()"
      ]
    },
    {
      "cell_type": "code",
      "execution_count": null,
      "metadata": {
        "id": "diTlEpqtqdql"
      },
      "outputs": [],
      "source": [
        "group_df.shape"
      ]
    },
    {
      "cell_type": "code",
      "execution_count": null,
      "metadata": {
        "id": "JRFh_Jytqdql"
      },
      "outputs": [],
      "source": [
        "group_df.info()"
      ]
    },
    {
      "cell_type": "markdown",
      "metadata": {
        "id": "viBsIdGnKZ48"
      },
      "source": [
        "### 2) Plot communicative success"
      ]
    },
    {
      "cell_type": "code",
      "execution_count": null,
      "metadata": {
        "id": "EoxTJjnpqdql"
      },
      "outputs": [],
      "source": [
        "suc = []\n",
        "lev = []\n",
        "for f in files:\n",
        "    # Extract data_id from the file name\n",
        "    data_id = f.split('/')[-1]\n",
        "\n",
        "    # Read the data\n",
        "    data_object = read_json_tcg(f)\n",
        "    trial_data = data_object.trial[2]\n",
        "\n",
        "    # Create DataFrames for 'Success' and 'Level'\n",
        "    idx_success = data_object.label.index('Success')\n",
        "    idx_level = data_object.label.index('Level')\n",
        "\n",
        "    df_success = pd.DataFrame([i[idx_success] for i in trial_data], columns=[data_id])\n",
        "    df_level = pd.DataFrame([i[idx_level] for i in trial_data], columns=[data_id])\n",
        "\n",
        "    suc.append(df_success)\n",
        "    lev.append(df_level)\n",
        "\n",
        "# Concatenate all 'Success' and 'Level' DataFrames side by side\n",
        "suc_all = pd.concat(suc, axis=1)\n",
        "lev_all = pd.concat(lev, axis=1)\n",
        "\n",
        "# Plot average 'Success'\n",
        "plt.figure()\n",
        "plt.plot(suc_all.mean(axis=1))\n",
        "plt.xlabel('Interactions')\n",
        "plt.ylabel('Success [%]')\n",
        "\n",
        "# Plot average 'Level'\n",
        "plt.figure()\n",
        "plt.plot(lev_all.mean(axis=1))\n",
        "plt.xlabel('Interactions')\n",
        "plt.ylabel('Level')\n",
        "plt.show()"
      ]
    },
    {
      "cell_type": "markdown",
      "metadata": {
        "id": "0dGuwMYpQo6e"
      },
      "source": [
        "### 3) Plot success separately for Known and Novel interactions"
      ]
    },
    {
      "cell_type": "code",
      "execution_count": null,
      "metadata": {
        "id": "g40vIq1oqdqm"
      },
      "outputs": [],
      "source": [
        "# Calculate mean success across all files\n",
        "suc_all_mean = suc_all.mean(axis=1)\n",
        "\n",
        "# Filter mean success for known and novel interactions\n",
        "suc_all_mean_known = suc_all_mean.loc[known_idx]\n",
        "suc_all_mean_novel = suc_all_mean.loc[novel_idx]\n",
        "\n",
        "# Plotting\n",
        "plt.figure()\n",
        "plt.plot(suc_all_mean_known, label='Known')\n",
        "plt.plot(suc_all_mean_novel, label='Novel')\n",
        "plt.xlabel('Interactions')\n",
        "plt.ylabel('Success [%]')\n",
        "plt.legend()\n",
        "plt.show()"
      ]
    },
    {
      "cell_type": "markdown",
      "metadata": {
        "id": "DUDrzxPnUC8y"
      },
      "source": [
        "#### Calculate and plot the correlation in planning times, separately for the Sender and Receiver roles"
      ]
    },
    {
      "cell_type": "code",
      "execution_count": null,
      "metadata": {
        "id": "kaO9Y9ZPUK7n"
      },
      "outputs": [],
      "source": [
        "rk_sender = []\n",
        "rn_sender = []\n",
        "rk_receiver = []\n",
        "rn_receiver = []\n",
        "for d in group_data:\n",
        "  # planning times\n",
        "    idx = d.label.index('SenderPlanTime')\n",
        "    senderPT = [i[idx] for i in d.trial[2]]\n",
        "    idx = d.label.index('ReceiverPlanTime')\n",
        "    receiverPT = [i[idx] for i in d.trial[2]]\n",
        "\n",
        "    # indices\n",
        "    idx = d.label.index('SenderPlayer')\n",
        "    # known trials where p1 is sender\n",
        "    p1sender_known = [x for x, i in enumerate(d.trial[2]) if i[idx] == 1 and x in known_idx]\n",
        "    # novel trials where p1 is sender\n",
        "    p1sender_novel = [x for x, i in enumerate(d.trial[2]) if i[idx] == 1 and x in novel_idx]\n",
        "    # known trials where p2 is sender\n",
        "    p2sender_known = [x for x, i in enumerate(d.trial[2]) if i[idx] == 2 and x in known_idx]\n",
        "    # novel trials where p2 is sender\n",
        "    p2sender_novel = [x for x, i in enumerate(d.trial[2]) if i[idx] == 2 and x in novel_idx]\n",
        "\n",
        "    idx = d.label.index('ReceiverPlayer')\n",
        "    # known trials where p1 is receiver\n",
        "    p1receiver_known = [x for x, i in enumerate(d.trial[2]) if i[idx] == 1 and x in known_idx]\n",
        "    # novel trials where p1 is receiver\n",
        "    p1receiver_novel = [x for x, i in enumerate(d.trial[2]) if i[idx] == 1 and x in novel_idx]\n",
        "    # known trials where p2 is receiver\n",
        "    p2receiver_known = [x for x, i in enumerate(d.trial[2]) if i[idx] == 2 and x in known_idx]\n",
        "    # novel trials where p2 is receiver\n",
        "    p2receiver_novel = [x for x, i in enumerate(d.trial[2]) if i[idx] == 2 and x in novel_idx]\n",
        "\n",
        "    # correlations\n",
        "    r, _ = pearsonr([senderPT[p] for p in p1sender_known], [senderPT[p] for p in p2sender_known])\n",
        "    rk_sender.append(r)\n",
        "    r, _ = pearsonr([senderPT[p] for p in p1sender_novel], [senderPT[p] for p in p2sender_novel])\n",
        "    rn_sender.append(r)\n",
        "    r, _ = pearsonr([receiverPT[p] for p in p1receiver_known], [receiverPT[p] for p in p2receiver_known])\n",
        "    rk_receiver.append(r)\n",
        "    r, _ = pearsonr([receiverPT[p] for p in p1receiver_novel], [receiverPT[p] for p in p2receiver_novel])\n",
        "    rn_receiver.append(r)\n",
        "\n",
        "plt.figure()\n",
        "plt.bar(['Known', 'Novel'], [np.mean(rk_sender), np.mean(rn_sender)])\n",
        "plt.ylabel('Sender planning time correlation [r]')\n",
        "plt.figure()\n",
        "plt.bar(['Known', 'Novel'], [np.mean(rk_receiver), np.mean(rn_receiver)])\n",
        "plt.ylabel('Receiver planning time correlation [r]')"
      ]
    },
    {
      "cell_type": "markdown",
      "metadata": {
        "id": "SqhQKHeogKxT"
      },
      "source": [
        "## Brain predictions"
      ]
    },
    {
      "cell_type": "markdown",
      "metadata": {
        "id": "3d2WnTq7gRfQ"
      },
      "source": [
        "1) Pairs were more successful when they could rely on previously established shared context (Known > Novel interactions).\n",
        "\n",
        "What types of processes are **unique** to sender and receivers, respectively? And what processes might be **overlapping** across communicative production and comprehension?\n",
        "\n",
        "How would you investigate this if you could measure people's brain activity in the game?\n",
        "\n",
        "2) **When** would you expect to observe these overlapping (neural) processes? After, during, or before the production and comprehension of communicative behavior?\n",
        "\n",
        "How would you investigate this?\n",
        "\n",
        "3) Pairs' planning times were more strongly correlated over Novel than over Known interactions, consistent with a **negotiation** of contextual knowledge over the course of Novel interactions.\n",
        "\n",
        "Would you expect this negotiation process to be visible in the brain data, and how would you test this neural prediction?"
      ]
    }
  ],
  "metadata": {
    "colab": {
      "collapsed_sections": [
        "2Z7U1YeCRVeo",
        "ytxdCTxx9-qZ"
      ],
      "provenance": []
    },
    "kernelspec": {
      "display_name": "Python 3 (ipykernel)",
      "language": "python",
      "name": "python3"
    },
    "language_info": {
      "codemirror_mode": {
        "name": "ipython",
        "version": 3
      },
      "file_extension": ".py",
      "mimetype": "text/x-python",
      "name": "python",
      "nbconvert_exporter": "python",
      "pygments_lexer": "ipython3",
      "version": "3.9.7"
    }
  },
  "nbformat": 4,
  "nbformat_minor": 0
}