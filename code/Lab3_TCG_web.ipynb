{
  "nbformat": 4,
  "nbformat_minor": 0,
  "metadata": {
    "colab": {
      "name": ":ab3_TCG_web.ipynb",
      "provenance": [],
      "collapsed_sections": []
    },
    "kernelspec": {
      "name": "python3",
      "display_name": "Python 3"
    },
    "language_info": {
      "name": "python"
    }
  },
  "cells": [
    {
      "cell_type": "markdown",
      "source": [
        "#Analysis of web recordings of the Tacit Communication Game\n",
        "\n",
        "This notebook demonstrates the analysis of communicative behavior produced during experimentally controlled interactions, i.e. the Tacit Communication Game.\n",
        "\n",
        "To get started, clone the course github containing our experimental files"
      ],
      "metadata": {
        "id": "-0bj14yMPBpw"
      }
    },
    {
      "cell_type": "code",
      "execution_count": null,
      "metadata": {
        "id": "wQeCRbVoOe1-"
      },
      "outputs": [],
      "source": [
        "!git clone https://github.com/StolkArjen/human-interaction.git\n",
        "# just FYI, to remove the folder, use: !rm -rf human-interaction\n",
        "# to clear all outputs, go to Edit > Clear all outputs, followed by Runtime > Restart"
      ]
    },
    {
      "cell_type": "markdown",
      "source": [
        "Our data are located in human-interaction/data/TCG_KU. But what files are in this directory? Let's get an inventory"
      ],
      "metadata": {
        "id": "ZnQBwvZSRr1Z"
      }
    },
    {
      "cell_type": "code",
      "source": [
        "import glob\n",
        "\n",
        "path = 'human-interaction/data/TCG_KU/'\n",
        "files = glob.glob(path + '*')\n",
        "\n",
        "print(files) # show"
      ],
      "metadata": {
        "id": "oQrsRHp9RrG0"
      },
      "execution_count": null,
      "outputs": []
    },
    {
      "cell_type": "markdown",
      "source": [
        "## Analysis of a single pair\n",
        "1) Read data from a pair into the workspace"
      ],
      "metadata": {
        "id": "2Z7U1YeCRVeo"
      }
    },
    {
      "cell_type": "code",
      "source": [
        "import os, sys\n",
        "sys.path.append(os.getcwd() + '/human-interaction/code')\n",
        "from read_json_tcg import read_json_tcg\n",
        "\n",
        "data = read_json_tcg('human-interaction/data/TCG_KU/room001133')\n",
        "print(data.label)"
      ],
      "metadata": {
        "id": "0xuX4DaRRDni"
      },
      "execution_count": null,
      "outputs": []
    },
    {
      "cell_type": "markdown",
      "source": [
        "2) Plot communicative success"
      ],
      "metadata": {
        "id": "pevNazDUla3z"
      }
    },
    {
      "cell_type": "code",
      "source": [
        "import matplotlib.pyplot as plt\n",
        "\n",
        "# success\n",
        "idx = data.label.index('Success')\n",
        "success = [i[idx] for i in data.trial[2]]\n",
        "plt.figure()\n",
        "plt.plot(success)\n",
        "plt.xlabel('Interactions')\n",
        "plt.ylabel('Success [%]')\n",
        "\n",
        "# level\n",
        "idx = data.label.index('Level')\n",
        "level = [i[idx] for i in data.trial[2]]\n",
        "plt.figure()\n",
        "plt.plot(level)\n",
        "plt.xlabel('Interactions')\n",
        "plt.ylabel('Level')"
      ],
      "metadata": {
        "id": "8ko0T1Z-leWh"
      },
      "execution_count": null,
      "outputs": []
    },
    {
      "cell_type": "markdown",
      "source": [
        "3) Plot success separately for Known and Novel interactions"
      ],
      "metadata": {
        "id": "SuF0uBuonUQm"
      }
    },
    {
      "cell_type": "code",
      "source": [
        "kidx = [0,1,2,3, 9,10,11,12, 18,19,20,21, 27,28,29,30, 36,37,38,39, 45,46,47,48, 54,55,56,57, 63,64,65,66, 72,73,74,75, 81,82,83,84, 90,91,92,93]                  # blocks of 4 \n",
        "nidx = [4,5,6,7,8, 13,14,15,16,17, 22,23,24,25,26, 31,32,33,34,35, 40,41,42,43,44, 49,50,51,52,53, 58,59,60,61,62, 67,68,69,70,71, 76,77,78,79,80, 85,86,87,88,89] # blocks of 5\n",
        "\n",
        "ksuc = sum([success[k] for k in kidx]) / len(kidx) # percentage success\n",
        "nsuc = sum([success[n] for n in nidx]) / len(nidx) # percentage success\n",
        "\n",
        "plt.figure()\n",
        "plt.bar(['Known', 'Novel'], [ksuc, nsuc])\n",
        "plt.ylabel('Success [%]')"
      ],
      "metadata": {
        "id": "sEnE8R05nhOU"
      },
      "execution_count": null,
      "outputs": []
    },
    {
      "cell_type": "markdown",
      "source": [
        "Known trials contained communicative problems where pairs had previously coordinated and found shared solutions for. Novel trials contained communicative problems the pairs had not faced before, and for which they had to establish shared solutions still. What does the above plot tell you?"
      ],
      "metadata": {
        "id": "Gj0a78iariH1"
      }
    },
    {
      "cell_type": "markdown",
      "source": [
        "4) Plot time spent on target and non-target locations by the Sender "
      ],
      "metadata": {
        "id": "i-3P-WUnsdUV"
      }
    },
    {
      "cell_type": "code",
      "source": [
        "import numpy as np\n",
        "\n",
        "idx = data.label.index('TargetTime')\n",
        "target = [i[idx] for i in data.trial[2]]\n",
        "idx = data.label.index('NonTargetTime')\n",
        "nontarget = [i[idx] for i in data.trial[2]]\n",
        "\n",
        "plt.figure()\n",
        "plt.bar(['Target', 'NonTarget'], [np.mean(target), np.mean(nontarget)])\n",
        "plt.ylabel('Time spent on location [ms]')"
      ],
      "metadata": {
        "id": "vgn65ULMr6sg"
      },
      "execution_count": null,
      "outputs": []
    },
    {
      "cell_type": "markdown",
      "source": [
        "Target locations are locations where the Receiver's shape needs to be positioned by the Receiver. Non-target locations are other locations visited by the Sender during his/her turn. What does this plot tell you?"
      ],
      "metadata": {
        "id": "rxuqb-R5tdF9"
      }
    },
    {
      "cell_type": "markdown",
      "source": [
        "Plot Sender and Receiver planning times"
      ],
      "metadata": {
        "id": "7ew_iNZAtvYZ"
      }
    },
    {
      "cell_type": "code",
      "source": [
        "idx = data.label.index('SenderPlanTime')\n",
        "senderPT = [i[idx] for i in data.trial[2]]\n",
        "idx = data.label.index('ReceiverPlanTime')\n",
        "receiverPT = [i[idx] for i in data.trial[2]]\n",
        "\n",
        "plt.figure()\n",
        "plt.plot(senderPT)\n",
        "plt.plot(receiverPT)\n",
        "plt.xlabel('Interactions')\n",
        "plt.ylabel('Planning time [ms]')\n",
        "plt.legend(['Sender','Receiver'])"
      ],
      "metadata": {
        "id": "wmaycThIuWf0"
      },
      "execution_count": null,
      "outputs": []
    },
    {
      "cell_type": "markdown",
      "source": [
        "What do you notice? "
      ],
      "metadata": {
        "id": "GsZ8qvOUvc4e"
      }
    },
    {
      "cell_type": "markdown",
      "source": [
        "Calculate and plot the correlation in planning times, separately for the Sender and Receiver roles"
      ],
      "metadata": {
        "id": "uUZDXlIIvEU1"
      }
    },
    {
      "cell_type": "code",
      "source": [
        "from scipy.stats import pearsonr\n",
        "\n",
        "# plot sender planning times for player 1 and 2\n",
        "idx = data.label.index('SenderPlayer')\n",
        "p1sender = [x for x, i in enumerate(data.trial[2]) if i[idx] == 1] # trials where p1 is sender\n",
        "p2sender = [x for x, i in enumerate(data.trial[2]) if i[idx] == 2] # trials where p2 is sender\n",
        "p1senderPT = [senderPT[p] for p in p1sender]\n",
        "p2senderPT = [senderPT[p] for p in p2sender]\n",
        "\n",
        "plt.figure()\n",
        "plt.plot(p1senderPT)\n",
        "plt.plot(p2senderPT)\n",
        "plt.xlabel('Sender turns')\n",
        "plt.ylabel('Planning time [ms]')\n",
        "plt.legend(['Player 1','Player 2'])\n",
        "\n",
        "# sender planning time correlations over Known and Novel interactions\n",
        "p1sender_known = [x for x, i in enumerate(data.trial[2]) if i[idx] == 1 and x in kidx]\n",
        "p1sender_novel = [x for x, i in enumerate(data.trial[2]) if i[idx] == 1 and x in nidx]\n",
        "p2sender_known = [x for x, i in enumerate(data.trial[2]) if i[idx] == 2 and x in kidx]\n",
        "p2sender_novel = [x for x, i in enumerate(data.trial[2]) if i[idx] == 2 and x in nidx]\n",
        "rk_sender, _ = pearsonr([senderPT[p] for p in p1sender_known], [senderPT[p] for p in p2sender_known])\n",
        "rn_sender, _ = pearsonr([senderPT[p] for p in p1sender_novel], [senderPT[p] for p in p2sender_novel])\n",
        "\n",
        "plt.figure()\n",
        "plt.bar(['Known', 'Novel'], [rk_sender, rn_sender])\n",
        "plt.ylabel('Sender planning time correlation [r]')"
      ],
      "metadata": {
        "id": "ZaoQAo8JvKIX"
      },
      "execution_count": null,
      "outputs": []
    },
    {
      "cell_type": "code",
      "source": [
        "# receiver planning time correlations over Known and Novel interactions\n",
        "idx = data.label.index('ReceiverPlayer')\n",
        "p1receiver = [x for x, i in enumerate(data.trial[2]) if i[idx] == 1] # trials where p1 is receiver\n",
        "p2receiver = [x for x, i in enumerate(data.trial[2]) if i[idx] == 2] # trials where p2 is receiver\n",
        "p1receiverPT = [receiverPT[p] for p in p1receiver]\n",
        "p2receiverPT = [receiverPT[p] for p in p2receiver]\n",
        "p1receiver_known = [x for x, i in enumerate(data.trial[2]) if i[idx] == 1 and x in kidx]\n",
        "p1receiver_novel = [x for x, i in enumerate(data.trial[2]) if i[idx] == 1 and x in nidx]\n",
        "p2receiver_known = [x for x, i in enumerate(data.trial[2]) if i[idx] == 2 and x in kidx]\n",
        "p2receiver_novel = [x for x, i in enumerate(data.trial[2]) if i[idx] == 2 and x in nidx]\n",
        "rk_receiver, _ = pearsonr([receiverPT[p] for p in p1receiver_known], [receiverPT[p] for p in p2receiver_known])\n",
        "rn_receiver, _ = pearsonr([receiverPT[p] for p in p1receiver_novel], [receiverPT[p] for p in p2receiver_novel])\n",
        "\n",
        "plt.figure()\n",
        "plt.bar(['Known', 'Novel'], [rk_receiver, rn_receiver])\n",
        "plt.ylabel('Receiver planning time correlation [r]')\n",
        "\n",
        "print(p1receiver_novel)"
      ],
      "metadata": {
        "id": "mRRpuaRN751I"
      },
      "execution_count": null,
      "outputs": []
    },
    {
      "cell_type": "markdown",
      "source": [
        "Correlation analysis helps to capture shared variance in the planning time timeseries. What do these correlations tell you about the communicative difficulty of the problems? Are they difficult for both players or for just one individual at a time?"
      ],
      "metadata": {
        "id": "Lqyz8Ebu9new"
      }
    },
    {
      "cell_type": "markdown",
      "source": [
        "## Group analysis of multiple pairs\n",
        "1) Read data from all pairs into the workspace"
      ],
      "metadata": {
        "id": "ytxdCTxx9-qZ"
      }
    },
    {
      "cell_type": "code",
      "source": [
        "path = 'human-interaction/data/TCG_KU/'\n",
        "files = glob.glob(path + '*')\n",
        "\n",
        "data = []\n",
        "for l in files:\n",
        "  data.append(read_json_tcg(l)) # store in array"
      ],
      "metadata": {
        "id": "YPiMbwIM-CzG"
      },
      "execution_count": null,
      "outputs": []
    },
    {
      "cell_type": "markdown",
      "source": [
        "2) Plot communicative success"
      ],
      "metadata": {
        "id": "viBsIdGnKZ48"
      }
    },
    {
      "cell_type": "code",
      "source": [
        "import pandas as pd\n",
        "\n",
        "suc = []\n",
        "lev = []\n",
        "for d in data:\n",
        "  # success\n",
        "  idx = d.label.index('Success')\n",
        "  success = [i[idx] for i in d.trial[2]]\n",
        "  suc.append(pd.DataFrame(success))\n",
        "\n",
        "  # level\n",
        "  idx = d.label.index('Level')\n",
        "  level = [i[idx] for i in d.trial[2]]\n",
        "  lev.append(pd.DataFrame(level))\n",
        "\n",
        "suc_all = pd.concat(suc, axis=1) # trials by pairs\n",
        "lev_all = pd.concat(lev, axis=1) # trials by pairs\n",
        "\n",
        "# success\n",
        "plt.figure()\n",
        "plt.plot(suc_all.mean(axis=1))\n",
        "plt.xlabel('Interactions')\n",
        "plt.ylabel('Success [%]')\n",
        "\n",
        "# level\n",
        "plt.figure()\n",
        "plt.plot(lev_all.mean(axis=1))\n",
        "plt.xlabel('Interactions')\n",
        "plt.ylabel('Level')"
      ],
      "metadata": {
        "id": "TveajjuTKa71"
      },
      "execution_count": null,
      "outputs": []
    },
    {
      "cell_type": "markdown",
      "source": [
        "3) Plot success separately for Known and Novel interactions"
      ],
      "metadata": {
        "id": "0dGuwMYpQo6e"
      }
    },
    {
      "cell_type": "code",
      "source": [
        "kidx = [0,1,2,3, 9,10,11,12, 18,19,20,21, 27,28,29,30, 36,37,38,39, 45,46,47,48, 54,55,56,57, 63,64,65,66, 72,73,74,75, 81,82,83,84, 90,91,92,93]                  # blocks of 4 \n",
        "nidx = [4,5,6,7,8, 13,14,15,16,17, 22,23,24,25,26, 31,32,33,34,35, 40,41,42,43,44, 49,50,51,52,53, 58,59,60,61,62, 67,68,69,70,71, 76,77,78,79,80, 85,86,87,88,89] # blocks of 5\n",
        "\n",
        "suc_all_mean = suc_all.sum(axis=1) / suc_all.shape[1]\n",
        "suc_all_mean_known = [suc_all_mean[k] for k in kidx]\n",
        "suc_all_mean_novel = [suc_all_mean[n] for n in nidx]\n",
        "\n",
        "plt.figure()\n",
        "plt.plot(suc_all_mean_known)\n",
        "plt.plot(suc_all_mean_novel)\n",
        "plt.xlabel('Interactions')\n",
        "plt.ylabel('Success [%]')\n",
        "plt.legend(['Known','Novel'])"
      ],
      "metadata": {
        "id": "FOn4xlOVQq5G"
      },
      "execution_count": null,
      "outputs": []
    },
    {
      "cell_type": "markdown",
      "source": [
        "Calculate and plot the correlation in planning times, separately for the Sender and Receiver roles"
      ],
      "metadata": {
        "id": "DUDrzxPnUC8y"
      }
    },
    {
      "cell_type": "code",
      "source": [
        "from scipy.stats import pearsonr\n",
        "\n",
        "rk_sender = []\n",
        "rn_sender = []\n",
        "rk_receiver = []\n",
        "rn_receiver = []\n",
        "for d in data:\n",
        "  # planning times\n",
        "  idx = d.label.index('SenderPlanTime')\n",
        "  senderPT = [i[idx] for i in d.trial[2]]\n",
        "  idx = d.label.index('ReceiverPlanTime')\n",
        "  receiverPT = [i[idx] for i in d.trial[2]]\n",
        "\n",
        "  # indices\n",
        "  idx = d.label.index('SenderPlayer')\n",
        "  p1sender_known = [x for x, i in enumerate(d.trial[2]) if i[idx] == 1 and x in kidx] # known trials where p1 is sender\n",
        "  p1sender_novel = [x for x, i in enumerate(d.trial[2]) if i[idx] == 1 and x in nidx] # novel trials where p1 is sender\n",
        "  p2sender_known = [x for x, i in enumerate(d.trial[2]) if i[idx] == 2 and x in kidx] # known trials where p2 is sender\n",
        "  p2sender_novel = [x for x, i in enumerate(d.trial[2]) if i[idx] == 2 and x in nidx] # novel trials where p2 is sender\n",
        "  idx = d.label.index('ReceiverPlayer')\n",
        "  p1receiver_known = [x for x, i in enumerate(d.trial[2]) if i[idx] == 1 and x in kidx] # known trials where p1 is receiver\n",
        "  p1receiver_novel = [x for x, i in enumerate(d.trial[2]) if i[idx] == 1 and x in nidx] # novel trials where p1 is receiver\n",
        "  p2receiver_known = [x for x, i in enumerate(d.trial[2]) if i[idx] == 2 and x in kidx] # known trials where p2 is receiver\n",
        "  p2receiver_novel = [x for x, i in enumerate(d.trial[2]) if i[idx] == 2 and x in nidx] # novel trials where p2 is receiver\n",
        "\n",
        "  # correlations\n",
        "  r, _ = pearsonr([senderPT[p] for p in p1sender_known], [senderPT[p] for p in p2sender_known])\n",
        "  rk_sender.append(r)\n",
        "  r, _ = pearsonr([senderPT[p] for p in p1sender_novel], [senderPT[p] for p in p2sender_novel])\n",
        "  rn_sender.append(r)\n",
        "  r, _ = pearsonr([receiverPT[p] for p in p1receiver_known], [receiverPT[p] for p in p2receiver_known])\n",
        "  rk_receiver.append(r)\n",
        "  r, _ = pearsonr([receiverPT[p] for p in p1receiver_novel], [receiverPT[p] for p in p2receiver_novel])\n",
        "  rn_receiver.append(r)\n",
        "\n",
        "plt.figure()\n",
        "plt.bar(['Known', 'Novel'], [np.mean(rk_sender), np.mean(rn_sender)])\n",
        "plt.ylabel('Sender planning time correlation [r]')\n",
        "plt.figure()\n",
        "plt.bar(['Known', 'Novel'], [np.mean(rk_receiver), np.mean(rn_receiver)])\n",
        "plt.ylabel('Receiver planning time correlation [r]')"
      ],
      "metadata": {
        "id": "kaO9Y9ZPUK7n"
      },
      "execution_count": null,
      "outputs": []
    },
    {
      "cell_type": "markdown",
      "source": [
        "## Brain predictions"
      ],
      "metadata": {
        "id": "SqhQKHeogKxT"
      }
    },
    {
      "cell_type": "markdown",
      "source": [
        "1) Pairs were more successful when they had access to a previously established  context of shared communicative solutions. Would you predict **overlapping** or **distinct** neural processes across senders producing and receivers comprehending communicative signals? How would you test this neural overlap?\n",
        "\n",
        "2) **When** would you expect activity of the neural overlap to occur: following, during, or preceding communicative production/comprehension? How would you investigate this?\n",
        "\n",
        "3) Pairs' planning times were more strongly correlated over novel than over known trials, consistent with a **negotiation** of meaning over the course of novel trials. Would you expect this negotiation to be visible in the brain data, and how would you test this neural prediction?"
      ],
      "metadata": {
        "id": "3d2WnTq7gRfQ"
      }
    }
  ]
}