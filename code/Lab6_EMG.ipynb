{
  "cells": [
    {
      "cell_type": "code",
      "source": [
        "!git clone https://github.com/StolkArjen/human-interaction.git\n",
        "# just FYI, to remove the folder, use: !rm -rf human-interaction\n",
        "# to clear all variables, use %reset\n",
        "# to clear all outputs, go to Edit > Clear all outputs, followed by Runtime > Restart"
      ],
      "metadata": {
        "colab": {
          "base_uri": "https://localhost:8080/"
        },
        "id": "UbMD6hNW8xqP",
        "outputId": "47e7c2fc-c9c0-44ac-f0dd-9ff7af765f84"
      },
      "execution_count": 1,
      "outputs": [
        {
          "output_type": "stream",
          "name": "stdout",
          "text": [
            "fatal: destination path 'human-interaction' already exists and is not an empty directory.\n"
          ]
        }
      ]
    },
    {
      "cell_type": "code",
      "execution_count": 9,
      "metadata": {
        "colab": {
          "base_uri": "https://localhost:8080/"
        },
        "id": "ZkQslX9220SV",
        "outputId": "040c22b7-d2f4-4440-8d17-9eb589fa0e20"
      },
      "outputs": [
        {
          "output_type": "stream",
          "name": "stdout",
          "text": [
            "['Blank.png', 'Blank.png', '+Dog2.png', '+Dog2.png', 'Blank.png', 'Blank.png', '+Baby2.jpg', '+Baby2.jpg', 'Blank.png', 'Blank.png', 'Blank.png', 'Blank.png', '+Dog2.png', '+Dog2.png', 'Blank.png', 'Blank.png', '+Baby2.jpg', '+Baby2.jpg', 'Blank.png', 'Blank.png', 'Smile', 'Neutral', 'Frown', 'Neutral', 'Smile', 'Neutral', 'Frown', 'Neutral', 'Smile', 'Neutral', 'Frown', 'Neutral', 'Blank.png', 'Blank.png', '+Dog2.png', '+Dog2.png', 'Blank.png', 'Blank.png', '+Baby2.jpg', '+Baby2.jpg', 'Blank.png', 'Blank.png', '-Spider2.jpg', '-Spider2.jpg', 'Blank.png', 'Blank.png', '+Friends2.jpg', '+Friends2.jpg', 'Blank.png', 'Blank.png', '-Snake.jpg', '-Snake.jpg', 'Blank.png', 'Blank.png', '+Dog1.jpg', '+Dog1.jpg', 'Blank.png', 'Blank.png', '-Dog1.jpg', '-Dog1.jpg', 'Blank.png', 'Blank.png', '+Cat2.jpg', '+Cat2.jpg', 'Blank.png', 'Blank.png', '-Dog2.jpg', '-Dog2.jpg', 'Blank.png', 'Blank.png', '-Spider1.jpg', '-Spider1.jpg', 'Blank.png', 'Blank.png', '+Dog3.jpg', '+Dog3.jpg', 'Blank.png', 'Blank.png', '-Face.jpg', '-Face.jpg', 'Blank.png', 'Blank.png', '+Friends1.jpg', '+Friends1.jpg', 'Blank.png', 'Blank.png', '-Spider3.jpg', '-Spider3.jpg', 'Blank.png', 'Blank.png', '+Baby1.jpg', '+Baby1.jpg', 'Blank.png', 'Blank.png', '-Cut.jpg', '-Cut.jpg', 'Blank.png', 'Blank.png', '-Gun.jpg', '-Gun.jpg', 'Blank.png', 'Blank.png', '+Cat-Dog.jpg', '+Cat-Dog.jpg', 'Blank.png', 'Blank.png', '-Sore.jpg', '-Sore.jpg', 'Blank.png', 'Blank.png', '+Cat1.jpg', '+Cat1.jpg', 'Blank.png', 'Blank.png']\n"
          ]
        }
      ],
      "source": [
        "import sys\n",
        "sys.path.append('human-interaction/code')\n",
        "from import_iworx import import_iworx\n",
        "\n",
        "# import the EMG data\n",
        "filename = 'human-interaction/data/EMG/EMGdata_CCM_Psych43.mat'\n",
        "data, event = import_iworx(filename) # data.trial, .time, .label, and event.type, .sample, .value"
      ]
    },
    {
      "cell_type": "markdown",
      "source": [
        "plot data, calculate correlations, calculate heartrate"
      ],
      "metadata": {
        "id": "kFivJHEGMXfZ"
      }
    }
  ],
  "metadata": {
    "kernelspec": {
      "display_name": "Python 3",
      "language": "python",
      "name": "python3"
    },
    "language_info": {
      "codemirror_mode": {
        "name": "ipython",
        "version": 3
      },
      "file_extension": ".py",
      "mimetype": "text/x-python",
      "name": "python",
      "nbconvert_exporter": "python",
      "pygments_lexer": "ipython3",
      "version": "3.8.3"
    },
    "colab": {
      "name": "Lab8_EMG.ipynb",
      "provenance": [],
      "collapsed_sections": []
    }
  },
  "nbformat": 4,
  "nbformat_minor": 0
}