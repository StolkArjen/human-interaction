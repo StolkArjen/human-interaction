{
  "cells": [
    {
      "cell_type": "markdown",
      "source": [
        "#Analysis of physiological responses to emotional visual stimuli\n",
        "\n",
        "This notebook demonstrates the analysis of physiological recordings obtained while the subject observed emotional visual stimuli.\n",
        "\n",
        "To get started, clone the course github containing our experimental files"
      ],
      "metadata": {
        "id": "8owKqaOIh_qm"
      }
    },
    {
      "cell_type": "code",
      "source": [
        "!git clone https://github.com/StolkArjen/human-interaction.git\n",
        "# to remove the folder, use: !rm -rf human-interaction\n",
        "# to clear all outputs, go to Edit > Clear all outputs, followed by Runtime > Restart"
      ],
      "metadata": {
        "id": "UbMD6hNW8xqP"
      },
      "execution_count": null,
      "outputs": []
    },
    {
      "cell_type": "markdown",
      "source": [
        "Add the code folder to the path"
      ],
      "metadata": {
        "id": "P0n5KSsOioWH"
      }
    },
    {
      "cell_type": "code",
      "execution_count": null,
      "metadata": {
        "id": "ZkQslX9220SV"
      },
      "outputs": [],
      "source": [
        "import os, sys\n",
        "sys.path.append(os.getcwd() + '/human-interaction/code')"
      ]
    },
    {
      "cell_type": "markdown",
      "source": [
        "Read data from a subject into the workspace\n",
        "\n"
      ],
      "metadata": {
        "id": "kFivJHEGMXfZ"
      }
    },
    {
      "cell_type": "code",
      "source": [
        "from read_iworx import read_iworx\n",
        "\n",
        "data, event = read_iworx(os.getcwd() + '/human-interaction/data/EMG_WI22/BD')\n",
        "\n",
        "print(event.value)\n",
        "print(event.sample)\n",
        "print(len(data.trial))"
      ],
      "metadata": {
        "id": "26Cse3Vaiu9V"
      },
      "execution_count": null,
      "outputs": []
    },
    {
      "cell_type": "markdown",
      "source": [
        "Data has the following nested fields:\n",
        "    .trial\n",
        "    .time\n",
        "    .label\n",
        "\n",
        "Event has the following nested fields:\n",
        "    .type\n",
        "    .sample\n",
        "    .value\n",
        "\n",
        "Let's sort our stimuli per emotion type, either positive (+) or negative (-), and get their sample indices"
      ],
      "metadata": {
        "id": "MBeJlgt7j4jE"
      }
    },
    {
      "cell_type": "code",
      "source": [
        "posidx = [i for i, e in enumerate(event.value) if e[0] == '+']\n",
        "negidx = [i for i, xxxxx e[0] == '-']\n",
        "\n",
        "possmp = [event.sample[p] for p in posidx]\n",
        "negsmp = [event.sample[p] for p in negidx]\n",
        "\n",
        "print(possmp)\n",
        "print(negsmp)"
      ],
      "metadata": {
        "id": "xZ30714bj9qI"
      },
      "execution_count": null,
      "outputs": []
    },
    {
      "cell_type": "markdown",
      "source": [
        "Got an error? My cat may have stepped on the keyboard. Can you fix it?"
      ],
      "metadata": {
        "id": "E1F3XBbzqxDb"
      }
    },
    {
      "cell_type": "markdown",
      "source": [
        "Okay, let's continue once fixed and extract data samples from around the presentation of each stimulus based on the above sample indices"
      ],
      "metadata": {
        "id": "pcrpWy7ofAbv"
      }
    },
    {
      "cell_type": "code",
      "source": [
        "import numpy as np\n",
        "\n",
        "pre = 1000 # samples corresponding to msec\n",
        "post = 1000\n",
        "\n",
        "posdat = []\n",
        "for t in range(len(data.time)): # loop through trials\n",
        "  for e in range(len(posidx)): # loop through events\n",
        "      if possmp[e] > data.time[t][0] and possmp[e] < data.time[t][-1]:\n",
        "          idx = data.time[t].index(possmp[e])\n",
        "          posdat.append(data.trial[t][:,idx-pre:idx+post])\n",
        "\n",
        "negdat = []"
      ],
      "metadata": {
        "id": "Oq6G-4TKeLU9"
      },
      "execution_count": null,
      "outputs": []
    },
    {
      "cell_type": "markdown",
      "source": [
        "Any code missing? Hint: negatives?"
      ],
      "metadata": {
        "id": "Lq7KxU8T1Iz0"
      }
    },
    {
      "cell_type": "markdown",
      "source": [
        "Now that we have the responses to stimuli, let's plot them together"
      ],
      "metadata": {
        "id": "R7HuFa-K1Z3T"
      }
    },
    {
      "cell_type": "code",
      "source": [
        "import matplotlib.pyplot as plt\n",
        "\n",
        "time = range(-pre, post, 1)\n",
        "for t in range(len(posdat)):\n",
        "  fig, axs = plt.subplots(1,5, figsize=(15,5))\n",
        "  for p in range(len(posdat[t])):\n",
        "    axs[p].plot(time, posdat[t][p,:], 'b')\n",
        "    axs[p].plot(time, negdat[t][p,:], 'r')\n",
        "    axs[p].title.set_text(data.label[p])"
      ],
      "metadata": {
        "id": "DHujAkO71eVI"
      },
      "execution_count": null,
      "outputs": []
    },
    {
      "cell_type": "markdown",
      "source": [
        "Let's take a look at the averages"
      ],
      "metadata": {
        "id": "gXAHeWOv8t-s"
      }
    },
    {
      "cell_type": "code",
      "source": [
        "posavg = np.nanmean(posdat, axis=0)\n",
        "negavg = np.nanmean(negdat, axis=0)\n",
        "\n",
        "fig, axs = plt.subplots(1,5, figsize=(15,5))\n",
        "for p in range(len(posavg)):\n",
        "  axs[p].plot(time, posavg[p,:], 'b')\n",
        "  axs[p].plot(time, negavg[p,:], 'r')\n",
        "  axs[p].title.set_text(data.label[p])"
      ],
      "metadata": {
        "id": "W9Lr__oT8yJL"
      },
      "execution_count": null,
      "outputs": []
    },
    {
      "cell_type": "markdown",
      "source": [
        "Let's plot them as changes from baseline, i.e. subtracting the time before the stimulus"
      ],
      "metadata": {
        "id": "a3qTXldD-HrY"
      }
    },
    {
      "cell_type": "code",
      "source": [
        "poschange = []\n",
        "for t in range(len(posdat)):\n",
        "  baseavg = np.mean(posdat[t][:,:pre],axis=1)\n",
        "  baseline = np.tile(baseavg[:,np.newaxis],(1,pre+post))\n",
        "  poschange.append(posdat[t]-baseline)\n",
        "poschangeavg = np.nanmean(poschange, axis=0)\n",
        "\n",
        "negchange = []\n",
        "for t in range(len(negdat)):\n",
        "  baseavg = np.mean(negdat[t][:,:pre],axis=1)\n",
        "  baseline = np.tile(baseavg[:,np.newaxis],(1,pre+post))\n",
        "  negchange.append(negdat[t]-baseline)\n",
        "negchangeavg = np.nanmean(negchange, axis=0)\n",
        "\n",
        "fig, axs = plt.subplots(1,5, figsize=(15,5))\n",
        "for p in range(len(poschangeavg)):\n",
        "  axs[p].plot(time, poschangeavg[p,:], 'b')\n",
        "  axs[p].plot(time, negchangeavg[p,:], 'r')\n",
        "  axs[p].title.set_text(data.label[p])"
      ],
      "metadata": {
        "id": "pR80anof-NKA"
      },
      "execution_count": null,
      "outputs": []
    },
    {
      "cell_type": "markdown",
      "source": [
        "What shall we investigate next? What about the relationship between heart rate and skin conductance? \n",
        "\n",
        "To do this, we first extract data from the first stimulus until the last"
      ],
      "metadata": {
        "id": "tdHED46MFmPb"
      }
    },
    {
      "cell_type": "code",
      "source": [
        "for i, t in enumerate(data.time):\n",
        "  if event.sample[0] > data.time[i][0] and event.sample[-1] < data.time[i][-1]: # if events fall within this trial\n",
        "        begin = data.time[i].index(event.sample[0])\n",
        "        end = data.time[i].index(event.sample[-1])\n",
        "        dat = data.trial[i][:,begin:end] \n",
        "\n",
        "# check for matching durations (if this breaks, it might be due to events having been recorded by separate trials)\n",
        "print(event.sample[-1]-event.sample[0]) # in seconds\n",
        "print(len(dat[0])) # in samples, at 1000 Hz resolution"
      ],
      "metadata": {
        "id": "hRa4spqdF15A"
      },
      "execution_count": null,
      "outputs": []
    },
    {
      "cell_type": "markdown",
      "source": [
        "Next, we correlate the heart rate and skin conductance channels"
      ],
      "metadata": {
        "id": "TkD-35MJF2NW"
      }
    },
    {
      "cell_type": "code",
      "source": [
        "hridx = data.label.index('Heart Rate')\n",
        "scidx = data.label.index('Skin Conductance')\n",
        "\n",
        "fig = plt.figure()\n",
        "plt.plot(dat[hridx], 'g')\n",
        "plt.plot(dat[scidx], 'y')\n",
        "\n",
        "R = np.corrcoef(dat[hridx], dat[scidx])[1][0]\n",
        "print(R)"
      ],
      "metadata": {
        "id": "zTI3QwSgZSZH"
      },
      "execution_count": null,
      "outputs": []
    },
    {
      "cell_type": "markdown",
      "source": [
        "For a thought experiment, or perhaps actual if time allows, how would you go about correlating data from two or more subjects? "
      ],
      "metadata": {
        "id": "K5yy2sAPbFW0"
      }
    }
  ],
  "metadata": {
    "kernelspec": {
      "display_name": "Python 3",
      "language": "python",
      "name": "python3"
    },
    "language_info": {
      "codemirror_mode": {
        "name": "ipython",
        "version": 3
      },
      "file_extension": ".py",
      "mimetype": "text/x-python",
      "name": "python",
      "nbconvert_exporter": "python",
      "pygments_lexer": "ipython3",
      "version": "3.8.3"
    },
    "colab": {
      "name": "Lab6_EMG",
      "provenance": [],
      "collapsed_sections": []
    }
  },
  "nbformat": 4,
  "nbformat_minor": 0
}